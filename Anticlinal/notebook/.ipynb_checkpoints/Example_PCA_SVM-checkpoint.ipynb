{
 "cells": [
  {
   "cell_type": "code",
   "execution_count": 1,
   "metadata": {},
   "outputs": [],
   "source": [
    "import numpy as np\n",
    "from sklearn.svm import SVC\n",
    "from sklearn.decomposition import PCA\n",
    "#from keras.utils import np_utils\n",
    "#from keras.preprocessing.image import ImageDataGenerator\n",
    "from sklearn.preprocessing import LabelEncoder\n",
    "from sklearn.model_selection import train_test_split\n",
    "import cv2\n",
    "import scipy\n",
    "import os\n",
    "%matplotlib inline\n",
    "import matplotlib.pyplot as plt"
   ]
  },
  {
   "cell_type": "code",
   "execution_count": 2,
   "metadata": {},
   "outputs": [],
   "source": [
    "BASE_DIR = '../'\n",
    "# all parameters not specified are set to their defaults"
   ]
  },
  {
   "cell_type": "code",
   "execution_count": 3,
   "metadata": {},
   "outputs": [],
   "source": [
    "def get_data(folder):\n",
    "    \"\"\"\n",
    "    Load the data and labels from the given folder.\n",
    "    \"\"\"\n",
    "    X = []\n",
    "    y = []\n",
    "\n",
    "    for seismic_type in os.listdir(folder):\n",
    "        if not seismic_type.startswith('.'):\n",
    "            if seismic_type in ['Class1']:\n",
    "                label = '0'\n",
    "            else:\n",
    "                label = '1'\n",
    "            for image_filename in os.listdir(folder + seismic_type):\n",
    "                img_file = cv2.imread(folder + seismic_type + '/' + image_filename, 0)\n",
    "                if img_file is not None:\n",
    "                    # Downsample the image to 120, 160, 3\n",
    "                    # img_file = scipy.misc.imresize(arr=img_file, size=(120, 160, 3))\n",
    "                    img_arr = np.asarray(img_file)\n",
    "                    X.append(img_arr)\n",
    "                    y.append(label)\n",
    "    X = np.asarray(X)\n",
    "    y = np.asarray(y)\n",
    "    return X,y"
   ]
  },
  {
   "cell_type": "code",
   "execution_count": 4,
   "metadata": {},
   "outputs": [],
   "source": [
    "X_train, y_train = get_data(BASE_DIR + 'images/Train/')\n",
    "X_test, y_test = get_data(BASE_DIR + 'images/Test/')\n",
    "\n",
    "#scikit-learn expects 2d num arrays for the training dataset for a fit function. \n",
    "#The dataset you are passing in is a 3d array you need to reshape the array into a 2d.\n",
    "\n",
    "nsamples, nx, ny = X_train.shape\n",
    "nsamples2, nx2, ny2 = X_test.shape\n",
    "X_train_new = X_train.reshape((nsamples,nx*ny))\n",
    "X_test = X_test.reshape((nsamples2,nx2*ny2))\n",
    "\n",
    "encoder = LabelEncoder()\n",
    "encoder.fit(y_train)\n",
    "y_train = encoder.transform(y_train)\n",
    "y_test = encoder.transform(y_test)"
   ]
  },
  {
   "cell_type": "code",
   "execution_count": 5,
   "metadata": {},
   "outputs": [
    {
     "name": "stdout",
     "output_type": "stream",
     "text": [
      "Extracting the top 50 eigen-anticlines from 400 anticlines\n",
      "done in 1.384s\n",
      "Projecting the input data on the eigen-anticlines orthonormal basis\n",
      "done in 0.199s\n"
     ]
    }
   ],
   "source": [
    "#############################################################################\n",
    "# Compute a PCA (anticlines) on the anticlines dataset (treated as unlabeled\n",
    "# dataset): unsupervised feature extraction / dimensionality reduction\n",
    "from time import time\n",
    "n_components = 50\n",
    "\n",
    "print(\"Extracting the top %d eigen-anticlines from %d anticlines\"\n",
    "      % (n_components, X_train_new.shape[0]))\n",
    "t0 = time()\n",
    "pca = PCA(n_components=n_components, svd_solver='randomized',\n",
    "          whiten=True).fit(X_train_new)\n",
    "print(\"done in %0.3fs\" % (time() - t0))\n",
    "\n",
    "print(\"Projecting the input data on the eigen-anticlines orthonormal basis\")\n",
    "t0 = time()\n",
    "X_train_pca = pca.transform(X_train_new)\n",
    "X_test_pca = pca.transform(X_test)\n",
    "print(\"done in %0.3fs\" % (time() - t0))\n"
   ]
  },
  {
   "cell_type": "code",
   "execution_count": 6,
   "metadata": {},
   "outputs": [
    {
     "name": "stdout",
     "output_type": "stream",
     "text": [
      "              precision    recall  f1-score   support\n",
      "\n",
      "           0       1.00      0.92      0.96        25\n",
      "           1       0.93      1.00      0.96        25\n",
      "\n",
      "    accuracy                           0.96        50\n",
      "   macro avg       0.96      0.96      0.96        50\n",
      "weighted avg       0.96      0.96      0.96        50\n",
      "\n",
      "[[23  2]\n",
      " [ 0 25]]\n"
     ]
    }
   ],
   "source": [
    "from sklearn.model_selection import GridSearchCV\n",
    "from sklearn.metrics import classification_report\n",
    "from sklearn.metrics import confusion_matrix\n",
    "from time import time\n",
    "from sklearn import svm\n",
    "# #############################################################################\n",
    "# Train a SVM classification model\n",
    "\n",
    "#print(\"Fitting the classifier to the training set\")\n",
    "#t0 = time()\n",
    "#param_grid = {'C': [1e3, 5e3, 1e4, 5e4, 1e5],\n",
    "#              'gamma': [0.0001, 0.0005, 0.001, 0.005, 0.01, 0.1], }\n",
    "#clf = GridSearchCV(SVC(kernel='rbf', class_weight='balanced'), param_grid)\n",
    "#clf = clf.fit(X_train_new, y_train)\n",
    "#print(\"done in %0.3fs\" % (time() - t0))\n",
    "#print(\"Best estimator found by grid search:\")\n",
    "#print(clf.best_estimator_)\n",
    "\n",
    "\n",
    "# #############################################################################\n",
    "# Quantitative evaluation of the model quality on the test set\n",
    "\n",
    "#print(\"Predicting anticlines on the test set\")\n",
    "#t0 = time()\n",
    "#y_pred = clf.predict(X_test)\n",
    "#print(\"done in %0.3fs\" % (time() - t0))\n",
    "\n",
    "clf = svm.SVC(kernel='linear', C = 100.0)\n",
    "#clf = svm.SVC(kernel='rbf', gamma=0.1, C = 100.0)\n",
    "clf.fit(X_train_pca,y_train)\n",
    "y_pred = clf.predict(X_test_pca)\n",
    "\n",
    "print(classification_report(y_test, y_pred))\n",
    "print(confusion_matrix(y_test, y_pred))"
   ]
  },
  {
   "cell_type": "code",
   "execution_count": 7,
   "metadata": {},
   "outputs": [
    {
     "name": "stdout",
     "output_type": "stream",
     "text": [
      "0.96\n"
     ]
    }
   ],
   "source": [
    "from sklearn.metrics import accuracy_score\n",
    "score = accuracy_score(y_test, y_pred)\n",
    "print(score)"
   ]
  },
  {
   "cell_type": "code",
   "execution_count": 8,
   "metadata": {},
   "outputs": [
    {
     "name": "stdout",
     "output_type": "stream",
     "text": [
      "[[23  2]\n",
      " [ 0 25]]\n"
     ]
    }
   ],
   "source": [
    "cm = confusion_matrix(y_test, y_pred)\n",
    "print(cm)"
   ]
  },
  {
   "cell_type": "code",
   "execution_count": 9,
   "metadata": {},
   "outputs": [
    {
     "data": {
      "image/png": "[encoded data removed]",
      "text/plain": [
       "<Figure size 432x288 with 1 Axes>"
      ]
     },
     "metadata": {
      "needs_background": "light"
     },
     "output_type": "display_data"
    }
   ],
   "source": [
    "from sklearn.metrics import roc_curve, auc\n",
    "fpr, tpr, thresholds = roc_curve(y_test, y_pred)\n",
    "roc_auc = auc(fpr, tpr)\n",
    "\n",
    "plt.figure()\n",
    "plt.plot(fpr, tpr, color='darkorange', lw=1, label='ROC curve (area = %0.2f)' % roc_auc)\n",
    "plt.plot([0, 1], [0, 1], color='navy', lw=1, linestyle='--')\n",
    "plt.xlim([0.0, 1.0])\n",
    "plt.ylim([0.0, 1.05])\n",
    "plt.xlabel('False Positive Rate')\n",
    "plt.ylabel('True Positive Rate')\n",
    "plt.title('Receiver operating characteristic')\n",
    "plt.legend(loc=\"lower right\")\n",
    "plt.show()"
   ]
  },
  {
   "cell_type": "code",
   "execution_count": 10,
   "metadata": {},
   "outputs": [
    {
     "data": {
      "image/png": "[encoded data removed]",
      "text/plain": [
       "<Figure size 360x360 with 2 Axes>"
      ]
     },
     "metadata": {
      "needs_background": "light"
     },
     "output_type": "display_data"
    }
   ],
   "source": [
    "import seaborn as sns\n",
    "plt.figure(figsize=(5,5))\n",
    "sns.heatmap(cm, annot=True, fmt=\".3f\", linewidths=.5, square = True, cmap = 'Blues_r');\n",
    "plt.ylabel('Actual label');\n",
    "plt.xlabel('Predicted label');\n",
    "all_sample_title = 'Accuracy Score: {0}'.format(score)\n",
    "plt.title(all_sample_title, size = 10);"
   ]
  },
  {
   "cell_type": "code",
   "execution_count": null,
   "metadata": {},
   "outputs": [],
   "source": []
  }
 ],
 "metadata": {
  "kernelspec": {
   "display_name": "Python 3",
   "language": "python",
   "name": "python3"
  },
  "language_info": {
   "codemirror_mode": {
    "name": "ipython",
    "version": 3
   },
   "file_extension": ".py",
   "mimetype": "text/x-python",
   "name": "python",
   "nbconvert_exporter": "python",
   "pygments_lexer": "ipython3",
   "version": "3.8.8"
  }
 },
 "nbformat": 4,
 "nbformat_minor": 2
}
